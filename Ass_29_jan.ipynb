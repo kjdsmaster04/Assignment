{
 "cells": [
  {
   "cell_type": "code",
   "execution_count": 7,
   "id": "6f876f51-2d13-47f3-b2df-4b69fbe05355",
   "metadata": {},
   "outputs": [
    {
     "ename": "SyntaxError",
     "evalue": "incomplete input (2998904429.py, line 1)",
     "output_type": "error",
     "traceback": [
      "\u001b[0;36m  Cell \u001b[0;32mIn[7], line 1\u001b[0;36m\u001b[0m\n\u001b[0;31m    \"\"\"\"\u001b[0m\n\u001b[0m    ^\u001b[0m\n\u001b[0;31mSyntaxError\u001b[0m\u001b[0;31m:\u001b[0m incomplete input\n"
     ]
    }
   ],
   "source": [
    "\"\"\"\"\n",
    "Ans 1- Guido van Rossum\n",
    "Ans 2-  Object-oriented programming and structured programming\n",
    "Ans 3- Yes,\n",
    "Ans 4- .ipynb\n",
    "Ans 5- Interpreted\n",
    "Ans 6 - a module, a function body, and a class definition\n",
    "Ans 7- #\n",
    "Ans 8 - import platform\n",
    "        print(platform.python_version())\n",
    "ANs 9 - Lambda\n",
    "Ans 10 -PIP- Preferred installer program \n",
    "Ans 11- printf, type,append, range\n",
    "Ans 12- 79 \n",
    "ANs 13- \n",
    "No need to mention data type based on the value assigned, it takes data type\n",
    "User-friendly data structures \n",
    "High-level language \n",
    "Open source and large active community base \n",
    "\n",
    "Ans14- \n",
    "Python memory allocation and deallocation method is automatic ,\n",
    "\n",
    "Garbage collector \n",
    "\n",
    "Allocation of Memory \n",
    "\n",
    "1. Stack memory \n",
    "2. Heap Memory \n",
    "\n",
    "Ans 15- \n",
    "\n",
    "Ans 16 - Yes, indentatio is must in python \n",
    "\n",
    "\"\"\""
   ]
  },
  {
   "cell_type": "code",
   "execution_count": null,
   "id": "5c19f240-9d97-4386-b239-091b765bc170",
   "metadata": {},
   "outputs": [],
   "source": []
  },
  {
   "cell_type": "code",
   "execution_count": null,
   "id": "2d1423a5-b0b1-4aa9-9f7c-f9edcf6e62db",
   "metadata": {},
   "outputs": [],
   "source": []
  },
  {
   "cell_type": "code",
   "execution_count": null,
   "id": "11e59d43-87c6-4ddf-9599-c70d62f4479d",
   "metadata": {},
   "outputs": [],
   "source": []
  },
  {
   "cell_type": "code",
   "execution_count": null,
   "id": "af55ca74-b782-4120-8d20-87f4b442d174",
   "metadata": {},
   "outputs": [],
   "source": []
  },
  {
   "cell_type": "code",
   "execution_count": null,
   "id": "2ad97f22-013d-4af3-9f5b-4ed03b01d0c5",
   "metadata": {},
   "outputs": [],
   "source": []
  }
 ],
 "metadata": {
  "kernelspec": {
   "display_name": "Python 3 (ipykernel)",
   "language": "python",
   "name": "python3"
  },
  "language_info": {
   "codemirror_mode": {
    "name": "ipython",
    "version": 3
   },
   "file_extension": ".py",
   "mimetype": "text/x-python",
   "name": "python",
   "nbconvert_exporter": "python",
   "pygments_lexer": "ipython3",
   "version": "3.10.8"
  }
 },
 "nbformat": 4,
 "nbformat_minor": 5
}
